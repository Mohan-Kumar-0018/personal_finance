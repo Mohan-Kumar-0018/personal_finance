{
 "cells": [
  {
   "cell_type": "code",
   "execution_count": 1,
   "metadata": {},
   "outputs": [
    {
     "name": "stderr",
     "output_type": "stream",
     "text": [
      "/var/folders/qz/tjlq7c2d6ws93j0v6s_ns0jc0000gn/T/ipykernel_87219/823663393.py:3: DeprecationWarning: \n",
      "Pyarrow will become a required dependency of pandas in the next major release of pandas (pandas 3.0),\n",
      "(to allow more performant data types, such as the Arrow string type, and better interoperability with other libraries)\n",
      "but was not found to be installed on your system.\n",
      "If this would cause problems for you,\n",
      "please provide us feedback at https://github.com/pandas-dev/pandas/issues/54466\n",
      "        \n",
      "  import pandas as pd\n"
     ]
    },
    {
     "name": "stdout",
     "output_type": "stream",
     "text": [
      "worksheet.title =  Transactions\n",
      "       Source       Date         Description Transaction Type  Amount  \\\n",
      "0  Kotak Bank   1-9-2024            Rent Sep            DEBIT   25000   \n",
      "1  Kotak Bank   1-9-2024  Maintenance Mygate            DEBIT    3500   \n",
      "2  Kotak Bank   3-9-2024          Salary Oct           CREDIT  150000   \n",
      "3  Kotak Bank   3-9-2024        Dad Transfer            DEBIT   50000   \n",
      "4  Kotak Bank  10-9-2024             Zerodha            DEBIT   30000   \n",
      "\n",
      "  Comments Valid  \n",
      "0                 \n",
      "1                 \n",
      "2                 \n",
      "3                 \n",
      "4                 \n",
      "<class 'pandas.core.frame.DataFrame'>\n",
      "RangeIndex: 30 entries, 0 to 29\n",
      "Data columns (total 7 columns):\n",
      " #   Column            Non-Null Count  Dtype \n",
      "---  ------            --------------  ----- \n",
      " 0   Source            30 non-null     object\n",
      " 1   Date              30 non-null     object\n",
      " 2   Description       30 non-null     object\n",
      " 3   Transaction Type  30 non-null     object\n",
      " 4   Amount            30 non-null     object\n",
      " 5   Comments          30 non-null     object\n",
      " 6   Valid             30 non-null     object\n",
      "dtypes: object(7)\n",
      "memory usage: 1.8+ KB\n",
      "None\n"
     ]
    }
   ],
   "source": [
    "import gspread\n",
    "from oauth2client.service_account import ServiceAccountCredentials\n",
    "import pandas as pd\n",
    "\n",
    "# Define the scope\n",
    "scope = ['https://spreadsheets.google.com/feeds', 'https://www.googleapis.com/auth/drive']\n",
    "\n",
    "# Add your JSON key file name here\n",
    "creds = ServiceAccountCredentials.from_json_keyfile_name('/Users/kumar/sideprojects/gcp_credentials/eastern-amp-436415-b9-8a4db89f99b3.json', scope)\n",
    "\n",
    "# Authorize the client\n",
    "client = gspread.authorize(creds)\n",
    "\n",
    "# Open the spreadsheet by name or URL\n",
    "spreadsheet = client.open_by_url('https://docs.google.com/spreadsheets/d/17Ag0AUQY_yl6IgbKPhIVDTGgw4s8x2zzgRu5_ivY4VQ/edit?gid=0#gid=0')\n",
    "\n",
    "# Select the first sheet\n",
    "worksheet = spreadsheet.sheet1\n",
    "print(\"worksheet.title = \",worksheet.title)\n",
    "\n",
    "# Get all records as a list of dictionaries\n",
    "data = worksheet.get_all_records()\n",
    "\n",
    "# Print the data\n",
    "# for record in data:\n",
    "#     print(record)\n",
    "\n",
    "\n",
    "\n",
    "# Convert the list of dictionaries to a pandas DataFrame\n",
    "df = pd.DataFrame(data)\n",
    "\n",
    "# Print the first few rows of the DataFrame\n",
    "print(df.head())\n",
    "\n",
    "# Print DataFrame info (column names, data types, non-null counts)\n",
    "print(df.info())\n",
    "\n",
    "\n"
   ]
  }
 ],
 "metadata": {
  "kernelspec": {
   "display_name": "Python 3",
   "language": "python",
   "name": "python3"
  },
  "language_info": {
   "codemirror_mode": {
    "name": "ipython",
    "version": 3
   },
   "file_extension": ".py",
   "mimetype": "text/x-python",
   "name": "python",
   "nbconvert_exporter": "python",
   "pygments_lexer": "ipython3",
   "version": "3.11.9"
  }
 },
 "nbformat": 4,
 "nbformat_minor": 2
}
